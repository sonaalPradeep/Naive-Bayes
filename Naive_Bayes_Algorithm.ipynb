{
 "cells": [
  {
   "cell_type": "markdown",
   "metadata": {},
   "source": [
    "# Implementing a basic Naive-Bayes algorithm\n",
    "<hr/>"
   ]
  },
  {
   "cell_type": "markdown",
   "metadata": {},
   "source": [
    "## 1. Introduction"
   ]
  },
  {
   "cell_type": "markdown",
   "metadata": {},
   "source": [
    "This is an implementation of the Naive Bayes classifiction algorithm, done in the form of a learning project. This algorithm is based on a probabilistic approach; the \"Bayes\" part of the title referring to Bayesian Conditional Probability. The naiveity is introduced in the fact that the features/attributes considered are taken to be independent of each other.\n",
    "<hr/>\n"
   ]
  },
  {
   "cell_type": "markdown",
   "metadata": {},
   "source": [
    "## 2 About the dataset"
   ]
  },
  {
   "cell_type": "markdown",
   "metadata": {},
   "source": [
    "The dataset used will be the \"Pima Indians Diabetes Dataset\". This dataset is used to determine whether a given patient is either diabetic or not based on numerous factors:\n",
    "\n",
    "1. Number of times pregenant\n",
    "2. Plasma glucose concentration \n",
    "3. Diastolic blood pressure\n",
    "4. Triceps skin fold thickness\n",
    "5. 2-Hour serum insulin\n",
    "6. Body-Mass index\n",
    "7. Diabetes pedigree function\n",
    "8. Age\n",
    "\n",
    "The last attribute in the table is the class variable, to show if the patient has diabetes or not.\n",
    "\n",
    "The data is stored in a CSV file. It consists of 768 data entries. \n",
    "\n",
    "Click [here](https://gist.github.com/chaityacshah/899a95deaf8b1930003ae93944fd17d7) to open and download the CSV file.\n"
   ]
  },
  {
   "cell_type": "markdown",
   "metadata": {},
   "source": [
    "## 2.1 Understanding the data"
   ]
  },
  {
   "cell_type": "code",
   "execution_count": 1,
   "metadata": {
    "scrolled": true
   },
   "outputs": [
    {
     "name": "stdout",
     "output_type": "stream",
     "text": [
      "1. Number of times pregnant,2. Plasma glucose concentration a 2 hours in an oral glucose tolerance test,3. Diastolic blood pressure (mm Hg),4. Triceps skin fold thickness (mm),5. 2-Hour serum insulin (mu U/ml),6. Body mass index (weight in kg/(height in m)^2),7. Diabetes pedigree function,8. Age (years),9. Class variable (0 or 1)\r\n",
      "6,148,72,35,0,33.6,0.627,50,1\r\n",
      "1,85,66,29,0,26.6,0.351,31,0\r\n",
      "8,183,64,0,0,23.3,0.672,32,1\r\n",
      "1,89,66,23,94,28.1,0.167,21,0\r\n",
      "0,137,40,35,168,43.1,2.288,33,1\r\n",
      "5,116,74,0,0,25.6,0.201,30,0\r\n",
      "3,78,50,32,88,31.0,0.248,26,1\r\n",
      "10,115,0,0,0,35.3,0.134,29,0\r\n",
      "2,197,70,45,543,30.5,0.158,53,1\r\n"
     ]
    }
   ],
   "source": [
    "! head pima-indians-diabetes.csv"
   ]
  },
  {
   "cell_type": "markdown",
   "metadata": {},
   "source": [
    "<br/>\n",
    "It must be noted that the first line in the file consists of the column names, which must be removed while training the model\n",
    "<hr/>"
   ]
  },
  {
   "cell_type": "markdown",
   "metadata": {},
   "source": [
    "## 3. Implementing the program"
   ]
  },
  {
   "cell_type": "markdown",
   "metadata": {},
   "source": [
    "### 3.1. Importing the modules"
   ]
  },
  {
   "cell_type": "markdown",
   "metadata": {},
   "source": [
    "The following modules are required for reading a CSV file, for math functions involved and for spliting the dataset randomly respectively."
   ]
  },
  {
   "cell_type": "code",
   "execution_count": 2,
   "metadata": {},
   "outputs": [],
   "source": [
    "import csv\n",
    "import math\n",
    "import random"
   ]
  },
  {
   "cell_type": "markdown",
   "metadata": {},
   "source": [
    "### 3.2. Defining the functions"
   ]
  },
  {
   "cell_type": "markdown",
   "metadata": {},
   "source": [
    "The program can be sectioned into parts:\n",
    "\n",
    "1. Load data\n",
    "2. Split data into training and testing sets\n",
    "3. Summarize the data based on class\n",
    "4. Make a prediction\n",
    "5. Check the accuracy"
   ]
  },
  {
   "cell_type": "markdown",
   "metadata": {},
   "source": [
    "### 3.3. Loading the data"
   ]
  },
  {
   "cell_type": "markdown",
   "metadata": {},
   "source": [
    "The data needs to be loaded into a list. The first line, which consists of the column name needs to be removed, and all the values need to be changed to float values. This is done with the loadCSV() function, defined as below."
   ]
  },
  {
   "cell_type": "code",
   "execution_count": 3,
   "metadata": {},
   "outputs": [],
   "source": [
    "def loadCSV():\n",
    "    lines = csv.reader(open(r'pima-indians-diabetes.csv'))\n",
    "    data = list(lines)\n",
    "    data = data[1:]\n",
    "    \n",
    "    for i in range(len(data)):\n",
    "        data[i] = [float(x) for x in data[i]]\n",
    "        \n",
    "    return data"
   ]
  },
  {
   "cell_type": "markdown",
   "metadata": {},
   "source": [
    "### 3.4 Spliting the data into testing and training set"
   ]
  },
  {
   "cell_type": "markdown",
   "metadata": {},
   "source": [
    "Data now needs to be split into testing and training the set. The partitioning is determined by the value of the 'splitRatio'. Generally a value near 0.7 to 0.8 is taken. Data for the training set is choosen randomly from the input dataset, and the test is considered the training set."
   ]
  },
  {
   "cell_type": "code",
   "execution_count": 4,
   "metadata": {},
   "outputs": [],
   "source": [
    "def splitData(data, splitRatio):\n",
    "    trainSize = int(len(data) * splitRatio)\n",
    "    trainSet = []\n",
    "    testSet = list(data)\n",
    "    \n",
    "    while len(trainSet) < trainSize:\n",
    "        index = random.randrange(len(testSet))\n",
    "        trainSet.append(testSet.pop())\n",
    "        \n",
    "    return [trainSet, testSet]"
   ]
  },
  {
   "cell_type": "markdown",
   "metadata": {},
   "source": [
    "### 3.5 Spliting the data based on the class"
   ]
  },
  {
   "cell_type": "markdown",
   "metadata": {},
   "source": [
    "To find the properties of different attribute of the data, the dataset needs to be divided into its different classes; that is either diabetic or not diabetic. This attribute is stored as the last element in the list."
   ]
  },
  {
   "cell_type": "code",
   "execution_count": 5,
   "metadata": {},
   "outputs": [],
   "source": [
    "def seperateByClass(data):\n",
    "    seperated = {}\n",
    "    \n",
    "    for i in range(len(data)):\n",
    "        vector = data[i]\n",
    "        if(vector[-1] not in seperated):\n",
    "            seperated[vector[-1]] = []\n",
    "            \n",
    "        seperated[vector[-1]].append(vector)\n",
    "        \n",
    "    return seperated"
   ]
  },
  {
   "cell_type": "markdown",
   "metadata": {},
   "source": [
    "### 3.6 Required mathematical functions"
   ]
  },
  {
   "cell_type": "markdown",
   "metadata": {},
   "source": [
    "Our choice of the classifier can vary based on the type of distribution we are dealing with. These can be Gaussian(also known as normal), Multinomial or Bernoulli.\n",
    "\n",
    "Our Naive Bayes classifier uses the Gaussian distribution. This requires us to find the mean and standard deviation of the data. Given these values, the probability for a given class can be calculated.\n",
    "\n",
    "![Naive Bayes Equation from Wikipedia](https://wikimedia.org/api/rest_v1/media/math/render/svg/685339e22f57b18d804f2e0a9c507421da59e2ab \"Naive Bayes Equation from Wikipedia\")"
   ]
  },
  {
   "cell_type": "code",
   "execution_count": 6,
   "metadata": {},
   "outputs": [],
   "source": [
    "def mean(data):\n",
    "    return sum(data)/float(len(data))"
   ]
  },
  {
   "cell_type": "code",
   "execution_count": 7,
   "metadata": {},
   "outputs": [],
   "source": [
    "def stddev(data):\n",
    "    avg = mean(data) \n",
    "    var = (sum(pow(x-avg, 2) for x in data))/float(len(data)-1) # Using Bassel Correction \n",
    "    \n",
    "    return math.sqrt(var)"
   ]
  },
  {
   "cell_type": "code",
   "execution_count": 8,
   "metadata": {},
   "outputs": [],
   "source": [
    "def calculateProbability(data, mean, stddev):\n",
    "    exp = math.exp((-(math.pow(data-mean, 2)))/float(2*math.pow(stddev, 2)))\n",
    "    return 1/(math.sqrt(2*math.pi*math.pow(stddev, 2))) * exp"
   ]
  },
  {
   "cell_type": "markdown",
   "metadata": {},
   "source": [
    "### 3.7 Summarization of data"
   ]
  },
  {
   "cell_type": "markdown",
   "metadata": {},
   "source": [
    "The summarizeByClass() function is used to find the mean of the attributes for each class. These functions call the mathematical functions described above and calculate the values. The last value will be a junk value as it is used to differentiate the category."
   ]
  },
  {
   "cell_type": "code",
   "execution_count": 9,
   "metadata": {},
   "outputs": [],
   "source": [
    "def summarize(data):\n",
    "    summaries = [(mean(attribute), stddev(attribute)) for attribute in zip(*data)]\n",
    "    \n",
    "    del summaries[-1]\n",
    "    return summaries"
   ]
  },
  {
   "cell_type": "code",
   "execution_count": 10,
   "metadata": {},
   "outputs": [],
   "source": [
    "def summarizeByClass(data):\n",
    "    seperated = seperateByClass(data)\n",
    "    summaries = {}\n",
    "    for classValue, instances in seperated.items():\n",
    "        summaries[classValue] = summarize(instances)\n",
    "        \n",
    "    return summaries"
   ]
  },
  {
   "cell_type": "markdown",
   "metadata": {},
   "source": [
    "### 3.8 Predictions and Accuracy"
   ]
  },
  {
   "cell_type": "markdown",
   "metadata": {},
   "source": [
    "Prediction is done by using the 'summaries' variable. The 'mean' and 'stddev' attributes are used to determine the probability of the current class, by plugging it into the probability function of the Gaussian distribution. The probability of both classes is determined, and the better label is returned. Here, the naiveity of the model can be noticed.\n",
    "\n",
    "Accuracy is measured by finding the percentage of correct predictions."
   ]
  },
  {
   "cell_type": "code",
   "execution_count": 11,
   "metadata": {},
   "outputs": [],
   "source": [
    "def calculateClassProbability(summaries, vector):\n",
    "    probabilities = {}\n",
    "    for classValue, classSummaries in summaries.items():\n",
    "        probabilities[classValue] = 1\n",
    "        for i in range(len(classSummaries)):\n",
    "            mean, stddev = classSummaries[i]\n",
    "            x = vector[i]\n",
    "            probabilities[classValue] *= calculateProbability(x, mean, stddev)\n",
    "            \n",
    "    return probabilities"
   ]
  },
  {
   "cell_type": "code",
   "execution_count": 12,
   "metadata": {},
   "outputs": [],
   "source": [
    "def predict(summaries, vector):\n",
    "    probabilities = calculateClassProbability(summaries, vector)\n",
    "    bestLabel, bestProb = None, -1\n",
    "    \n",
    "    for classValue, probability in probabilities.items():\n",
    "        if bestLabel is None or probability > bestProb:\n",
    "            bestProb = probability\n",
    "            bestLabel = classValue\n",
    "            \n",
    "    return bestLabel"
   ]
  },
  {
   "cell_type": "code",
   "execution_count": 13,
   "metadata": {},
   "outputs": [],
   "source": [
    "def getPredictions(summaries, testSet):\n",
    "    predictions = []\n",
    "    for i in range(len(testSet)):\n",
    "        result = predict(summaries, testSet[i])\n",
    "        predictions.append(result)\n",
    "        \n",
    "    return predictions"
   ]
  },
  {
   "cell_type": "code",
   "execution_count": 14,
   "metadata": {},
   "outputs": [],
   "source": [
    "def getAccuracy(testSet, predictions):\n",
    "    correct = 0\n",
    "    \n",
    "    for x in range(len(testSet)):\n",
    "        if testSet[x][-1] == predictions[x]:\n",
    "            correct += 1\n",
    "            \n",
    "    return (correct/float(len(testSet)))*100.0"
   ]
  },
  {
   "cell_type": "markdown",
   "metadata": {},
   "source": [
    "### 3.9 The main() function"
   ]
  },
  {
   "cell_type": "markdown",
   "metadata": {},
   "source": [
    "All function calls are encapsulated in the main function."
   ]
  },
  {
   "cell_type": "code",
   "execution_count": 15,
   "metadata": {},
   "outputs": [
    {
     "name": "stdout",
     "output_type": "stream",
     "text": [
      "Split 768 rows into 599 training and 169 testing rows\n",
      "Accuracy : 74.556%\n"
     ]
    },
    {
     "data": {
      "text/plain": [
       "74.55621301775149"
      ]
     },
     "execution_count": 15,
     "metadata": {},
     "output_type": "execute_result"
    }
   ],
   "source": [
    "def main(splitRatio, verbose = 1):\n",
    "    \n",
    "    data = loadCSV()\n",
    "    \n",
    "    trainingSet, testSet = splitData(data, splitRatio)\n",
    "    if verbose is 1:\n",
    "        print(\"Split {0} rows into {1} training and {2} testing rows\".format(len(data), len(trainingSet), len(testSet)))   \n",
    "    \n",
    "    summaries = summarizeByClass(trainingSet)\n",
    "    predictions = getPredictions(summaries, testSet)\n",
    "    accuracy = getAccuracy(testSet, predictions)\n",
    "    \n",
    "    if verbose is 1:\n",
    "        print(\"Accuracy : {0:.3f}%\".format(accuracy))\n",
    "        \n",
    "    return accuracy\n",
    "\n",
    "main(0.78)"
   ]
  },
  {
   "cell_type": "markdown",
   "metadata": {},
   "source": [
    "## 4. More information on the splitRatio"
   ]
  },
  {
   "cell_type": "markdown",
   "metadata": {},
   "source": [
    "This is just to find the value of splitRatio required for getting the highest accuracy."
   ]
  },
  {
   "cell_type": "code",
   "execution_count": 16,
   "metadata": {},
   "outputs": [],
   "source": [
    "from matplotlib import pyplot as plt\n",
    "import numpy as np"
   ]
  },
  {
   "cell_type": "code",
   "execution_count": 17,
   "metadata": {},
   "outputs": [],
   "source": [
    "X = np.arange(0.6, 1, 0.05)\n",
    "y = []"
   ]
  },
  {
   "cell_type": "code",
   "execution_count": 18,
   "metadata": {},
   "outputs": [],
   "source": [
    "for i in X:\n",
    "    y.append(main(i, 0))"
   ]
  },
  {
   "cell_type": "code",
   "execution_count": 19,
   "metadata": {},
   "outputs": [
    {
     "data": {
      "text/plain": [
       "[<matplotlib.lines.Line2D at 0x7fa9c7081050>]"
      ]
     },
     "execution_count": 19,
     "metadata": {},
     "output_type": "execute_result"
    },
    {
     "data": {
      "image/png": "[encoded data removed]",
      "text/plain": [
       "<Figure size 432x288 with 1 Axes>"
      ]
     },
     "metadata": {
      "needs_background": "light"
     },
     "output_type": "display_data"
    }
   ],
   "source": [
    "plt.xlabel('SplitRatio')\n",
    "plt.ylabel('Accuracy')\n",
    "\n",
    "max_y = max(y)\n",
    "xpos = y.index(max_y)\n",
    "max_x = X[xpos]\n",
    "\n",
    "plt.plot(X, y)"
   ]
  },
  {
   "cell_type": "markdown",
   "metadata": {},
   "source": [
    "From the above plot, the maximum accuracy is achieved when the splitRatio is near 0.85."
   ]
  },
  {
   "cell_type": "markdown",
   "metadata": {},
   "source": [
    "## 5. References"
   ]
  },
  {
   "cell_type": "markdown",
   "metadata": {},
   "source": [
    "1. [\"Youtube : Naive Bayes Classifier in Python\"](https://youtu.be/vz_xuxYS2PM)\n",
    "2. [\"Wikipedia : Naive Bayes Classifier\"](https://en.wikipedia.org/wiki/Naive_Bayes_classifier)\n",
    "3. [\"Pima Indian Diabetic Dataset\" CSV File](https://gist.github.com/chaityacshah/899a95deaf8b1930003ae93944fd17d7)"
   ]
  }
 ],
 "metadata": {
  "kernelspec": {
   "display_name": "Python 3",
   "language": "python",
   "name": "python3"
  },
  "language_info": {
   "codemirror_mode": {
    "name": "ipython",
    "version": 2
   },
   "file_extension": ".py",
   "mimetype": "text/x-python",
   "name": "python",
   "nbconvert_exporter": "python",
   "pygments_lexer": "ipython2",
   "version": "2.7.15+"
  }
 },
 "nbformat": 4,
 "nbformat_minor": 2
}
